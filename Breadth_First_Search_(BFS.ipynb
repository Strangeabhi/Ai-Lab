{
  "nbformat": 4,
  "nbformat_minor": 0,
  "metadata": {
    "colab": {
      "provenance": [],
      "authorship_tag": "ABX9TyOaMrfv8BmIPXrfyOYPDH3k",
      "include_colab_link": true
    },
    "kernelspec": {
      "name": "python3",
      "display_name": "Python 3"
    },
    "language_info": {
      "name": "python"
    }
  },
  "cells": [
    {
      "cell_type": "markdown",
      "metadata": {
        "id": "view-in-github",
        "colab_type": "text"
      },
      "source": [
        "<a href=\"https://colab.research.google.com/github/Strangeabhi/Ai-Lab/blob/main/Breadth_First_Search_(BFS.ipynb\" target=\"_parent\"><img src=\"https://colab.research.google.com/assets/colab-badge.svg\" alt=\"Open In Colab\"/></a>"
      ]
    },
    {
      "cell_type": "code",
      "execution_count": 1,
      "metadata": {
        "id": "VJmemk7LdwjK"
      },
      "outputs": [],
      "source": [
        "from collections import deque"
      ]
    },
    {
      "cell_type": "markdown",
      "source": [
        "Python program to implement the Breadth-First Search (BFS) algorithm."
      ],
      "metadata": {
        "id": "0rM-K-00jYT1"
      }
    },
    {
      "cell_type": "code",
      "source": [
        "#Define the graph/tree structure using an adjacency list\n",
        "graph = {\n",
        "  'A': ['B','C'],\n",
        "  'B': ['D','E'],\n",
        "  'C': ['F'],\n",
        "  'D':[],\n",
        "  'E':[],\n",
        "  'F':[]\n",
        "}\n",
        "def bfs(graph,start_node):\n",
        "  visited = set() #To keep track of visited nodes\n",
        "  queue = deque([start_node]) #Queue to store nodes to visit, starting with the root node\n",
        "  print(\"BFS Traversal Order: \")\n",
        "  while queue: #Continue until the queue is empty\n",
        "  #Pop the first node from the queue\n",
        "    current_node = queue.popleft()\n",
        "\n",
        "  #If the node has not been visited, process it\n",
        "  if current_node not in visited:\n",
        "    print(current_node,end=\" \") #Process the node(print it)\n",
        "    visited.add(current_node)\n",
        "\n",
        "    #Add all unvisited neighbours of the current node to the queue\n",
        "    for neighbour in graph[current_node]:\n",
        "      if neighbour not in visited:\n",
        "        queue.append(neighbour)"
      ],
      "metadata": {
        "id": "u_dMumyvd6BQ"
      },
      "execution_count": 13,
      "outputs": []
    },
    {
      "cell_type": "code",
      "source": [
        "#Call BFS starting from node 'A'\n",
        "bfs(graph,'A')"
      ],
      "metadata": {
        "colab": {
          "base_uri": "https://localhost:8080/"
        },
        "id": "FB5QNZTxfXdb",
        "outputId": "47a3a4f4-f535-450c-9385-bfb5daf45d65"
      },
      "execution_count": 14,
      "outputs": [
        {
          "output_type": "stream",
          "name": "stdout",
          "text": [
            "BFS Traversal Order: \n",
            "A "
          ]
        }
      ]
    }
  ]
}