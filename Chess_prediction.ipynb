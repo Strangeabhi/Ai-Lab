{
  "nbformat": 4,
  "nbformat_minor": 0,
  "metadata": {
    "colab": {
      "provenance": [],
      "authorship_tag": "ABX9TyOI7n96EbB/3xdZ2AVAv7T5",
      "include_colab_link": true
    },
    "kernelspec": {
      "name": "python3",
      "display_name": "Python 3"
    },
    "language_info": {
      "name": "python"
    }
  },
  "cells": [
    {
      "cell_type": "markdown",
      "metadata": {
        "id": "view-in-github",
        "colab_type": "text"
      },
      "source": [
        "<a href=\"https://colab.research.google.com/github/Strangeabhi/Ai-Lab/blob/main/Chess_prediction.ipynb\" target=\"_parent\"><img src=\"https://colab.research.google.com/assets/colab-badge.svg\" alt=\"Open In Colab\"/></a>"
      ]
    },
    {
      "cell_type": "code",
      "execution_count": 2,
      "metadata": {
        "colab": {
          "base_uri": "https://localhost:8080/",
          "height": 34
        },
        "id": "P5qZ3GdBffi9",
        "outputId": "df7d498f-d383-41db-b20f-cf32fa502532"
      },
      "outputs": [
        {
          "output_type": "stream",
          "name": "stdout",
          "text": [
            "✅ Sample PGN downloaded as 'lichess_sample.pgn'\n"
          ]
        },
        {
          "output_type": "display_data",
          "data": {
            "text/plain": [
              "<IPython.core.display.Javascript object>"
            ],
            "application/javascript": [
              "\n",
              "    async function download(id, filename, size) {\n",
              "      if (!google.colab.kernel.accessAllowed) {\n",
              "        return;\n",
              "      }\n",
              "      const div = document.createElement('div');\n",
              "      const label = document.createElement('label');\n",
              "      label.textContent = `Downloading \"${filename}\": `;\n",
              "      div.appendChild(label);\n",
              "      const progress = document.createElement('progress');\n",
              "      progress.max = size;\n",
              "      div.appendChild(progress);\n",
              "      document.body.appendChild(div);\n",
              "\n",
              "      const buffers = [];\n",
              "      let downloaded = 0;\n",
              "\n",
              "      const channel = await google.colab.kernel.comms.open(id);\n",
              "      // Send a message to notify the kernel that we're ready.\n",
              "      channel.send({})\n",
              "\n",
              "      for await (const message of channel.messages) {\n",
              "        // Send a message to notify the kernel that we're ready.\n",
              "        channel.send({})\n",
              "        if (message.buffers) {\n",
              "          for (const buffer of message.buffers) {\n",
              "            buffers.push(buffer);\n",
              "            downloaded += buffer.byteLength;\n",
              "            progress.value = downloaded;\n",
              "          }\n",
              "        }\n",
              "      }\n",
              "      const blob = new Blob(buffers, {type: 'application/binary'});\n",
              "      const a = document.createElement('a');\n",
              "      a.href = window.URL.createObjectURL(blob);\n",
              "      a.download = filename;\n",
              "      div.appendChild(a);\n",
              "      a.click();\n",
              "      div.remove();\n",
              "    }\n",
              "  "
            ]
          },
          "metadata": {}
        },
        {
          "output_type": "display_data",
          "data": {
            "text/plain": [
              "<IPython.core.display.Javascript object>"
            ],
            "application/javascript": [
              "download(\"download_95c660e9-f5d7-4075-adcc-6e7da4bfe2ce\", \"lichess_sample.pgn\", 95950)"
            ]
          },
          "metadata": {}
        }
      ],
      "source": [
        "import requests as rq\n",
        "url = \"https://lichess.org/api/games/user/DrNykterstein?max=100&rated=true&perfType=blitz&analysed=true\"\n",
        "headers = {\n",
        "    \"Accept\": \"application/x-chess-pgn\"\n",
        "}\n",
        "response = rq.get(url, headers=headers)\n",
        "with open(\"lichess_sample.pgn\", \"w\", encoding=\"utf-8\") as f:\n",
        "    f.write(response.text)\n",
        "\n",
        "print(\"✅ Sample PGN downloaded as 'lichess_sample.pgn'\")"
      ]
    },
    {
      "cell_type": "code",
      "source": [
        "from google.colab import files\n",
        "files.download(\"lichess_sample.pgn\")"
      ],
      "metadata": {
        "id": "YIfRf581qrji"
      },
      "execution_count": null,
      "outputs": []
    },
    {
      "cell_type": "code",
      "source": [
        "!pip install python-chess"
      ],
      "metadata": {
        "colab": {
          "base_uri": "https://localhost:8080/"
        },
        "id": "-DVSaX53qssh",
        "outputId": "3001e664-5e0e-4077-d34a-6b7ca7c24b16"
      },
      "execution_count": 4,
      "outputs": [
        {
          "output_type": "stream",
          "name": "stdout",
          "text": [
            "Collecting python-chess\n",
            "  Downloading python_chess-1.999-py3-none-any.whl.metadata (776 bytes)\n",
            "Collecting chess<2,>=1 (from python-chess)\n",
            "  Downloading chess-1.11.2.tar.gz (6.1 MB)\n",
            "\u001b[2K     \u001b[90m━━━━━━━━━━━━━━━━━━━━━━━━━━━━━━━━━━━━━━━━\u001b[0m \u001b[32m6.1/6.1 MB\u001b[0m \u001b[31m38.5 MB/s\u001b[0m eta \u001b[36m0:00:00\u001b[0m\n",
            "\u001b[?25h  Preparing metadata (setup.py) ... \u001b[?25l\u001b[?25hdone\n",
            "Downloading python_chess-1.999-py3-none-any.whl (1.4 kB)\n",
            "Building wheels for collected packages: chess\n",
            "  Building wheel for chess (setup.py) ... \u001b[?25l\u001b[?25hdone\n",
            "  Created wheel for chess: filename=chess-1.11.2-py3-none-any.whl size=147775 sha256=1df8937f5a70bfa0f9077a66ad0be15b4f9962425367dff65e6565f4c5903868\n",
            "  Stored in directory: /root/.cache/pip/wheels/fb/5d/5c/59a62d8a695285e59ec9c1f66add6f8a9ac4152499a2be0113\n",
            "Successfully built chess\n",
            "Installing collected packages: chess, python-chess\n",
            "Successfully installed chess-1.11.2 python-chess-1.999\n"
          ]
        }
      ]
    },
    {
      "cell_type": "code",
      "source": [
        "import chess.pgn\n",
        "import pandas as pd\n",
        "\n",
        "def extract_features_from_pgn(pgn_file, move_number=20):\n",
        "    data = []\n",
        "\n",
        "    with open(pgn_file, encoding=\"utf-8\") as f:\n",
        "        while True:\n",
        "            game = chess.pgn.read_game(f)\n",
        "            if game is None:\n",
        "                break\n",
        "\n",
        "            result = game.headers.get(\"Result\", \"\")\n",
        "            if result == \"1-0\" or result == \"0-1\":\n",
        "                label = 1\n",
        "            elif result == \"1/2-1/2\":\n",
        "                label = 0\n",
        "            else:\n",
        "                continue\n",
        "\n",
        "            board = game.board()\n",
        "            for i, move in enumerate(game.mainline_moves(), start=1):\n",
        "                board.push(move)\n",
        "                if i == move_number:\n",
        "                    break\n",
        "            else:\n",
        "                continue\n",
        "\n",
        "            features = {\n",
        "                \"material_balance\": mat_diff(board),\n",
        "                \"legal_moves\": board.legal_moves.count(),\n",
        "                \"is_white_turn\": int(board.turn),\n",
        "                \"label\": label\n",
        "            }\n",
        "            data.append(features)\n",
        "\n",
        "    return pd.DataFrame(data)\n",
        "\n",
        "def mat_diff(board):\n",
        "    piece_values = {\n",
        "        chess.PAWN: 1,\n",
        "        chess.KNIGHT: 3,\n",
        "        chess.BISHOP: 3,\n",
        "        chess.ROOK: 5,\n",
        "        chess.QUEEN: 9\n",
        "    }\n",
        "\n",
        "    balance = 0\n",
        "    for piece_type in piece_values:\n",
        "        balance += (\n",
        "            len(board.pieces(piece_type, chess.WHITE)) -\n",
        "            len(board.pieces(piece_type, chess.BLACK))\n",
        "        ) * piece_values[piece_type]\n",
        "    return balance\n"
      ],
      "metadata": {
        "id": "FXPYSgD_rFxJ"
      },
      "execution_count": 5,
      "outputs": []
    },
    {
      "cell_type": "code",
      "source": [
        "df = extract_features_from_pgn(\"lichess_sample.pgn\")\n",
        "print(df.head())"
      ],
      "metadata": {
        "colab": {
          "base_uri": "https://localhost:8080/"
        },
        "id": "lsFgxiGnrawZ",
        "outputId": "6ecaa887-6218-4c09-b716-1c0d96f5dd12"
      },
      "execution_count": 6,
      "outputs": [
        {
          "output_type": "stream",
          "name": "stdout",
          "text": [
            "   material_balance  legal_moves  is_white_turn  label\n",
            "0                 0           30              1      1\n",
            "1                -3           35              1      1\n",
            "2                 0           33              1      1\n",
            "3                 0           43              1      1\n",
            "4                 0           34              1      1\n"
          ]
        }
      ]
    },
    {
      "cell_type": "code",
      "source": [
        "from sklearn.model_selection import train_test_split\n",
        "\n",
        "df = df.dropna()\n",
        "\n",
        "X = df.drop(\"label\", axis=1)\n",
        "y = df[\"label\"]\n",
        "\n",
        "X_train, X_test, y_train, y_test = train_test_split(\n",
        "    X, y, test_size=0.2, random_state=42\n",
        ")\n",
        "\n",
        "print(f\"Training samples: {len(X_train)}\")\n",
        "print(f\"Testing samples: {len(X_test)}\")\n"
      ],
      "metadata": {
        "colab": {
          "base_uri": "https://localhost:8080/"
        },
        "id": "aZA-wEIyrgMC",
        "outputId": "4d7c26a0-3931-4a91-8644-8578c600948a"
      },
      "execution_count": 7,
      "outputs": [
        {
          "output_type": "stream",
          "name": "stdout",
          "text": [
            "Training samples: 80\n",
            "Testing samples: 20\n"
          ]
        }
      ]
    },
    {
      "cell_type": "code",
      "source": [
        "from sklearn.linear_model import LogisticRegression\n",
        "from sklearn.metrics import classification_report, confusion_matrix\n",
        "import matplotlib.pyplot as plt\n",
        "import seaborn as sns\n",
        "\n",
        "model = LogisticRegression()\n",
        "model.fit(X_train, y_train)\n",
        "\n",
        "y_pred = model.predict(X_test)\n",
        "\n",
        "print(\"Classification Report:\\n\")\n",
        "print(classification_report(y_test, y_pred, digits=3))\n",
        "\n",
        "cm = confusion_matrix(y_test, y_pred)\n",
        "\n",
        "plt.figure(figsize=(5, 4))\n",
        "sns.heatmap(cm, annot=True, fmt='d', cmap='Blues',\n",
        "            xticklabels=[\"Draw\", \"Checkmate\"],\n",
        "            yticklabels=[\"Draw\", \"Checkmate\"])\n",
        "plt.xlabel(\"Predicted\")\n",
        "plt.ylabel(\"Actual\")\n",
        "plt.title(\"Confusion Matrix\")\n",
        "plt.show()\n"
      ],
      "metadata": {
        "colab": {
          "base_uri": "https://localhost:8080/",
          "height": 725
        },
        "id": "JogSOxiartVi",
        "outputId": "b8ddce21-7d93-42fc-c3c4-dd2e1b7d43b5"
      },
      "execution_count": 9,
      "outputs": [
        {
          "output_type": "stream",
          "name": "stdout",
          "text": [
            "Classification Report:\n",
            "\n",
            "              precision    recall  f1-score   support\n",
            "\n",
            "           0      0.000     0.000     0.000         1\n",
            "           1      0.950     1.000     0.974        19\n",
            "\n",
            "    accuracy                          0.950        20\n",
            "   macro avg      0.475     0.500     0.487        20\n",
            "weighted avg      0.903     0.950     0.926        20\n",
            "\n"
          ]
        },
        {
          "output_type": "stream",
          "name": "stderr",
          "text": [
            "/usr/local/lib/python3.11/dist-packages/sklearn/metrics/_classification.py:1565: UndefinedMetricWarning: Precision is ill-defined and being set to 0.0 in labels with no predicted samples. Use `zero_division` parameter to control this behavior.\n",
            "  _warn_prf(average, modifier, f\"{metric.capitalize()} is\", len(result))\n",
            "/usr/local/lib/python3.11/dist-packages/sklearn/metrics/_classification.py:1565: UndefinedMetricWarning: Precision is ill-defined and being set to 0.0 in labels with no predicted samples. Use `zero_division` parameter to control this behavior.\n",
            "  _warn_prf(average, modifier, f\"{metric.capitalize()} is\", len(result))\n",
            "/usr/local/lib/python3.11/dist-packages/sklearn/metrics/_classification.py:1565: UndefinedMetricWarning: Precision is ill-defined and being set to 0.0 in labels with no predicted samples. Use `zero_division` parameter to control this behavior.\n",
            "  _warn_prf(average, modifier, f\"{metric.capitalize()} is\", len(result))\n"
          ]
        },
        {
          "output_type": "display_data",
          "data": {
            "text/plain": [
              "<Figure size 500x400 with 2 Axes>"
            ],
            "image/png": "[encoded data removed]"
          },
          "metadata": {}
        }
      ]
    },
    {
      "cell_type": "code",
      "source": [
        "import numpy as np\n",
        "\n",
        "feature_names = X.columns\n",
        "\n",
        "coefficients = model.coef_[0]\n",
        "\n",
        "importance_df = pd.DataFrame({\n",
        "    \"Feature\": feature_names,\n",
        "    \"Coefficient\": coefficients,\n",
        "    \"Impact\": [\"Checkmate +\" if c > 0 else \"Draw +\" for c in coefficients]\n",
        "})\n",
        "\n",
        "importance_df[\"Abs_Coeff\"] = np.abs(importance_df[\"Coefficient\"])\n",
        "importance_df = importance_df.sort_values(\"Abs_Coeff\", ascending=False)\n",
        "\n",
        "print(importance_df[[\"Feature\", \"Coefficient\", \"Impact\"]])\n"
      ],
      "metadata": {
        "colab": {
          "base_uri": "https://localhost:8080/"
        },
        "id": "Bt3vbYXAs89b",
        "outputId": "aa946c5c-b5e3-4670-b363-6f5ab1a366f8"
      },
      "execution_count": 11,
      "outputs": [
        {
          "output_type": "stream",
          "name": "stdout",
          "text": [
            "            Feature  Coefficient       Impact\n",
            "0  material_balance    -0.228211       Draw +\n",
            "1       legal_moves     0.014993  Checkmate +\n",
            "2     is_white_turn    -0.000101       Draw +\n"
          ]
        }
      ]
    }
  ]
}